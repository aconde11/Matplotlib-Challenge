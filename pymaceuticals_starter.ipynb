{
 "cells": [
  {
   "cell_type": "markdown",
   "metadata": {},
   "source": [
    "# Pymaceuticals Inc.\n",
    "---\n",
    "\n",
    "### Analysis\n",
    "\n",
    "- Add your analysis here.\n",
    " "
   ]
  },
  {
   "cell_type": "code",
   "execution_count": null,
   "metadata": {},
   "outputs": [],
   "source": [
    "# Dependencies and Setup\n",
    "import matplotlib.pyplot as plt\n",
    "import pandas as pd\n",
    "import scipy.stats as st\n",
    "\n",
    "# Study data files\n",
    "mouse_metadata_path = \"data/Mouse_metadata.csv\"\n",
    "study_results_path = \"data/Study_results.csv\"\n",
    "\n",
    "# Read the mouse data and the study results\n",
    "mouse_metadata = pd.read_csv(mouse_metadata_path)\n",
    "study_results = pd.read_csv(study_results_path)\n",
    "\n",
    "# Combine the data into a single DataFrame\n",
    "combined_df = pd.merge(mouse_metadata, study_results, how='outer', on=\"Mouse ID\")\n",
    "\n",
    "# Display the data table for preview\n",
    "combined_df.head()"
   ]
  },
  {
   "cell_type": "code",
   "execution_count": null,
   "metadata": {},
   "outputs": [],
   "source": [
    "# Checking the number of mice.\n",
    "num_mice = combined_df[\"Mouse ID\"].nunique()\n",
    "num_mice"
   ]
  },
  {
   "cell_type": "code",
   "execution_count": null,
   "metadata": {},
   "outputs": [],
   "source": [
    "# Our data should be uniquely identified by Mouse ID and Timepoint\n",
    "# Get the duplicate mice by ID number that shows up for Mouse ID and Timepoint. \n",
    "dup_mice_ID = combined_df.loc[combined_df.duplicated(subset=[\"Mouse ID\", \"Timepoint\"]), \"Mouse ID\"].unique()\n",
    "dup_mice_ID"
   ]
  },
  {
   "cell_type": "code",
   "execution_count": 19,
   "metadata": {},
   "outputs": [
    {
     "data": {
      "text/html": [
       "<div>\n",
       "<style scoped>\n",
       "    .dataframe tbody tr th:only-of-type {\n",
       "        vertical-align: middle;\n",
       "    }\n",
       "\n",
       "    .dataframe tbody tr th {\n",
       "        vertical-align: top;\n",
       "    }\n",
       "\n",
       "    .dataframe thead th {\n",
       "        text-align: right;\n",
       "    }\n",
       "</style>\n",
       "<table border=\"1\" class=\"dataframe\">\n",
       "  <thead>\n",
       "    <tr style=\"text-align: right;\">\n",
       "      <th></th>\n",
       "      <th>Mouse ID</th>\n",
       "      <th>Drug Regimen</th>\n",
       "      <th>Sex</th>\n",
       "      <th>Age_months</th>\n",
       "      <th>Weight (g)</th>\n",
       "      <th>Timepoint</th>\n",
       "      <th>Tumor Volume (mm3)</th>\n",
       "      <th>Metastatic Sites</th>\n",
       "    </tr>\n",
       "  </thead>\n",
       "  <tbody>\n",
       "    <tr>\n",
       "      <th>908</th>\n",
       "      <td>g989</td>\n",
       "      <td>Propriva</td>\n",
       "      <td>Female</td>\n",
       "      <td>21</td>\n",
       "      <td>26</td>\n",
       "      <td>0</td>\n",
       "      <td>45.000000</td>\n",
       "      <td>0</td>\n",
       "    </tr>\n",
       "    <tr>\n",
       "      <th>909</th>\n",
       "      <td>g989</td>\n",
       "      <td>Propriva</td>\n",
       "      <td>Female</td>\n",
       "      <td>21</td>\n",
       "      <td>26</td>\n",
       "      <td>0</td>\n",
       "      <td>45.000000</td>\n",
       "      <td>0</td>\n",
       "    </tr>\n",
       "    <tr>\n",
       "      <th>910</th>\n",
       "      <td>g989</td>\n",
       "      <td>Propriva</td>\n",
       "      <td>Female</td>\n",
       "      <td>21</td>\n",
       "      <td>26</td>\n",
       "      <td>5</td>\n",
       "      <td>48.786801</td>\n",
       "      <td>0</td>\n",
       "    </tr>\n",
       "    <tr>\n",
       "      <th>911</th>\n",
       "      <td>g989</td>\n",
       "      <td>Propriva</td>\n",
       "      <td>Female</td>\n",
       "      <td>21</td>\n",
       "      <td>26</td>\n",
       "      <td>5</td>\n",
       "      <td>47.570392</td>\n",
       "      <td>0</td>\n",
       "    </tr>\n",
       "    <tr>\n",
       "      <th>912</th>\n",
       "      <td>g989</td>\n",
       "      <td>Propriva</td>\n",
       "      <td>Female</td>\n",
       "      <td>21</td>\n",
       "      <td>26</td>\n",
       "      <td>10</td>\n",
       "      <td>51.745156</td>\n",
       "      <td>0</td>\n",
       "    </tr>\n",
       "    <tr>\n",
       "      <th>913</th>\n",
       "      <td>g989</td>\n",
       "      <td>Propriva</td>\n",
       "      <td>Female</td>\n",
       "      <td>21</td>\n",
       "      <td>26</td>\n",
       "      <td>10</td>\n",
       "      <td>49.880528</td>\n",
       "      <td>0</td>\n",
       "    </tr>\n",
       "    <tr>\n",
       "      <th>914</th>\n",
       "      <td>g989</td>\n",
       "      <td>Propriva</td>\n",
       "      <td>Female</td>\n",
       "      <td>21</td>\n",
       "      <td>26</td>\n",
       "      <td>15</td>\n",
       "      <td>51.325852</td>\n",
       "      <td>1</td>\n",
       "    </tr>\n",
       "    <tr>\n",
       "      <th>915</th>\n",
       "      <td>g989</td>\n",
       "      <td>Propriva</td>\n",
       "      <td>Female</td>\n",
       "      <td>21</td>\n",
       "      <td>26</td>\n",
       "      <td>15</td>\n",
       "      <td>53.442020</td>\n",
       "      <td>0</td>\n",
       "    </tr>\n",
       "    <tr>\n",
       "      <th>916</th>\n",
       "      <td>g989</td>\n",
       "      <td>Propriva</td>\n",
       "      <td>Female</td>\n",
       "      <td>21</td>\n",
       "      <td>26</td>\n",
       "      <td>20</td>\n",
       "      <td>55.326122</td>\n",
       "      <td>1</td>\n",
       "    </tr>\n",
       "    <tr>\n",
       "      <th>917</th>\n",
       "      <td>g989</td>\n",
       "      <td>Propriva</td>\n",
       "      <td>Female</td>\n",
       "      <td>21</td>\n",
       "      <td>26</td>\n",
       "      <td>20</td>\n",
       "      <td>54.657650</td>\n",
       "      <td>1</td>\n",
       "    </tr>\n",
       "    <tr>\n",
       "      <th>918</th>\n",
       "      <td>g989</td>\n",
       "      <td>Propriva</td>\n",
       "      <td>Female</td>\n",
       "      <td>21</td>\n",
       "      <td>26</td>\n",
       "      <td>25</td>\n",
       "      <td>56.045564</td>\n",
       "      <td>1</td>\n",
       "    </tr>\n",
       "    <tr>\n",
       "      <th>919</th>\n",
       "      <td>g989</td>\n",
       "      <td>Propriva</td>\n",
       "      <td>Female</td>\n",
       "      <td>21</td>\n",
       "      <td>26</td>\n",
       "      <td>30</td>\n",
       "      <td>59.082294</td>\n",
       "      <td>1</td>\n",
       "    </tr>\n",
       "    <tr>\n",
       "      <th>920</th>\n",
       "      <td>g989</td>\n",
       "      <td>Propriva</td>\n",
       "      <td>Female</td>\n",
       "      <td>21</td>\n",
       "      <td>26</td>\n",
       "      <td>35</td>\n",
       "      <td>62.570880</td>\n",
       "      <td>2</td>\n",
       "    </tr>\n",
       "  </tbody>\n",
       "</table>\n",
       "</div>"
      ],
      "text/plain": [
       "    Mouse ID Drug Regimen     Sex  Age_months  Weight (g)  Timepoint  \\\n",
       "908     g989     Propriva  Female          21          26          0   \n",
       "909     g989     Propriva  Female          21          26          0   \n",
       "910     g989     Propriva  Female          21          26          5   \n",
       "911     g989     Propriva  Female          21          26          5   \n",
       "912     g989     Propriva  Female          21          26         10   \n",
       "913     g989     Propriva  Female          21          26         10   \n",
       "914     g989     Propriva  Female          21          26         15   \n",
       "915     g989     Propriva  Female          21          26         15   \n",
       "916     g989     Propriva  Female          21          26         20   \n",
       "917     g989     Propriva  Female          21          26         20   \n",
       "918     g989     Propriva  Female          21          26         25   \n",
       "919     g989     Propriva  Female          21          26         30   \n",
       "920     g989     Propriva  Female          21          26         35   \n",
       "\n",
       "     Tumor Volume (mm3)  Metastatic Sites  \n",
       "908           45.000000                 0  \n",
       "909           45.000000                 0  \n",
       "910           48.786801                 0  \n",
       "911           47.570392                 0  \n",
       "912           51.745156                 0  \n",
       "913           49.880528                 0  \n",
       "914           51.325852                 1  \n",
       "915           53.442020                 0  \n",
       "916           55.326122                 1  \n",
       "917           54.657650                 1  \n",
       "918           56.045564                 1  \n",
       "919           59.082294                 1  \n",
       "920           62.570880                 2  "
      ]
     },
     "execution_count": 19,
     "metadata": {},
     "output_type": "execute_result"
    }
   ],
   "source": [
    "# Optional: Get all the data for the duplicate mouse ID. \n",
    "dup_mice_df = combined_df.loc[combined_df[\"Mouse ID\"] == \"g989\", :]\n",
    "dup_mice_df"
   ]
  },
  {
   "cell_type": "code",
   "execution_count": 20,
   "metadata": {},
   "outputs": [
    {
     "data": {
      "text/html": [
       "<div>\n",
       "<style scoped>\n",
       "    .dataframe tbody tr th:only-of-type {\n",
       "        vertical-align: middle;\n",
       "    }\n",
       "\n",
       "    .dataframe tbody tr th {\n",
       "        vertical-align: top;\n",
       "    }\n",
       "\n",
       "    .dataframe thead th {\n",
       "        text-align: right;\n",
       "    }\n",
       "</style>\n",
       "<table border=\"1\" class=\"dataframe\">\n",
       "  <thead>\n",
       "    <tr style=\"text-align: right;\">\n",
       "      <th></th>\n",
       "      <th>Mouse ID</th>\n",
       "      <th>Drug Regimen</th>\n",
       "      <th>Sex</th>\n",
       "      <th>Age_months</th>\n",
       "      <th>Weight (g)</th>\n",
       "      <th>Timepoint</th>\n",
       "      <th>Tumor Volume (mm3)</th>\n",
       "      <th>Metastatic Sites</th>\n",
       "    </tr>\n",
       "  </thead>\n",
       "  <tbody>\n",
       "    <tr>\n",
       "      <th>0</th>\n",
       "      <td>k403</td>\n",
       "      <td>Ramicane</td>\n",
       "      <td>Male</td>\n",
       "      <td>21</td>\n",
       "      <td>16</td>\n",
       "      <td>0</td>\n",
       "      <td>45.000000</td>\n",
       "      <td>0</td>\n",
       "    </tr>\n",
       "    <tr>\n",
       "      <th>1</th>\n",
       "      <td>k403</td>\n",
       "      <td>Ramicane</td>\n",
       "      <td>Male</td>\n",
       "      <td>21</td>\n",
       "      <td>16</td>\n",
       "      <td>5</td>\n",
       "      <td>38.825898</td>\n",
       "      <td>0</td>\n",
       "    </tr>\n",
       "    <tr>\n",
       "      <th>2</th>\n",
       "      <td>k403</td>\n",
       "      <td>Ramicane</td>\n",
       "      <td>Male</td>\n",
       "      <td>21</td>\n",
       "      <td>16</td>\n",
       "      <td>10</td>\n",
       "      <td>35.014271</td>\n",
       "      <td>1</td>\n",
       "    </tr>\n",
       "    <tr>\n",
       "      <th>3</th>\n",
       "      <td>k403</td>\n",
       "      <td>Ramicane</td>\n",
       "      <td>Male</td>\n",
       "      <td>21</td>\n",
       "      <td>16</td>\n",
       "      <td>15</td>\n",
       "      <td>34.223992</td>\n",
       "      <td>1</td>\n",
       "    </tr>\n",
       "    <tr>\n",
       "      <th>4</th>\n",
       "      <td>k403</td>\n",
       "      <td>Ramicane</td>\n",
       "      <td>Male</td>\n",
       "      <td>21</td>\n",
       "      <td>16</td>\n",
       "      <td>20</td>\n",
       "      <td>32.997729</td>\n",
       "      <td>1</td>\n",
       "    </tr>\n",
       "  </tbody>\n",
       "</table>\n",
       "</div>"
      ],
      "text/plain": [
       "  Mouse ID Drug Regimen   Sex  Age_months  Weight (g)  Timepoint  \\\n",
       "0     k403     Ramicane  Male          21          16          0   \n",
       "1     k403     Ramicane  Male          21          16          5   \n",
       "2     k403     Ramicane  Male          21          16         10   \n",
       "3     k403     Ramicane  Male          21          16         15   \n",
       "4     k403     Ramicane  Male          21          16         20   \n",
       "\n",
       "   Tumor Volume (mm3)  Metastatic Sites  \n",
       "0           45.000000                 0  \n",
       "1           38.825898                 0  \n",
       "2           35.014271                 1  \n",
       "3           34.223992                 1  \n",
       "4           32.997729                 1  "
      ]
     },
     "execution_count": 20,
     "metadata": {},
     "output_type": "execute_result"
    }
   ],
   "source": [
    "# Create a clean DataFrame by dropping the duplicate mouse by its ID.\n",
    "clean_df = combined_df[combined_df[\"Mouse ID\"].isin(dup_mice_ID)==False]\n",
    "clean_df.head()"
   ]
  },
  {
   "cell_type": "code",
   "execution_count": 21,
   "metadata": {},
   "outputs": [
    {
     "data": {
      "text/plain": [
       "248"
      ]
     },
     "execution_count": 21,
     "metadata": {},
     "output_type": "execute_result"
    }
   ],
   "source": [
    "# Checking the number of mice in the clean DataFrame.\n",
    "clean_mice = clean_df[\"Mouse ID\"].nunique()\n",
    "clean_mice"
   ]
  },
  {
   "cell_type": "markdown",
   "metadata": {},
   "source": [
    "## Summary Statistics"
   ]
  },
  {
   "cell_type": "code",
   "execution_count": 22,
   "metadata": {},
   "outputs": [
    {
     "data": {
      "text/html": [
       "<div>\n",
       "<style scoped>\n",
       "    .dataframe tbody tr th:only-of-type {\n",
       "        vertical-align: middle;\n",
       "    }\n",
       "\n",
       "    .dataframe tbody tr th {\n",
       "        vertical-align: top;\n",
       "    }\n",
       "\n",
       "    .dataframe thead th {\n",
       "        text-align: right;\n",
       "    }\n",
       "</style>\n",
       "<table border=\"1\" class=\"dataframe\">\n",
       "  <thead>\n",
       "    <tr style=\"text-align: right;\">\n",
       "      <th></th>\n",
       "      <th>Mean Tumor Volume</th>\n",
       "      <th>Median Tumor Volume</th>\n",
       "      <th>Tumor Volume Variance</th>\n",
       "      <th>Tumor Volume Standard Deviation</th>\n",
       "      <th>Tumor Volume SEM</th>\n",
       "    </tr>\n",
       "    <tr>\n",
       "      <th>Drug Regimen</th>\n",
       "      <th></th>\n",
       "      <th></th>\n",
       "      <th></th>\n",
       "      <th></th>\n",
       "      <th></th>\n",
       "    </tr>\n",
       "  </thead>\n",
       "  <tbody>\n",
       "    <tr>\n",
       "      <th>Capomulin</th>\n",
       "      <td>40.675741</td>\n",
       "      <td>41.557809</td>\n",
       "      <td>24.947764</td>\n",
       "      <td>4.994774</td>\n",
       "      <td>0.329346</td>\n",
       "    </tr>\n",
       "    <tr>\n",
       "      <th>Ceftamin</th>\n",
       "      <td>52.591172</td>\n",
       "      <td>51.776157</td>\n",
       "      <td>39.290177</td>\n",
       "      <td>6.268188</td>\n",
       "      <td>0.469821</td>\n",
       "    </tr>\n",
       "    <tr>\n",
       "      <th>Infubinol</th>\n",
       "      <td>52.884795</td>\n",
       "      <td>51.820584</td>\n",
       "      <td>43.128684</td>\n",
       "      <td>6.567243</td>\n",
       "      <td>0.492236</td>\n",
       "    </tr>\n",
       "    <tr>\n",
       "      <th>Ketapril</th>\n",
       "      <td>55.235638</td>\n",
       "      <td>53.698743</td>\n",
       "      <td>68.553577</td>\n",
       "      <td>8.279709</td>\n",
       "      <td>0.603860</td>\n",
       "    </tr>\n",
       "    <tr>\n",
       "      <th>Naftisol</th>\n",
       "      <td>54.331565</td>\n",
       "      <td>52.509285</td>\n",
       "      <td>66.173479</td>\n",
       "      <td>8.134708</td>\n",
       "      <td>0.596466</td>\n",
       "    </tr>\n",
       "    <tr>\n",
       "      <th>Placebo</th>\n",
       "      <td>54.033581</td>\n",
       "      <td>52.288934</td>\n",
       "      <td>61.168083</td>\n",
       "      <td>7.821003</td>\n",
       "      <td>0.581331</td>\n",
       "    </tr>\n",
       "    <tr>\n",
       "      <th>Propriva</th>\n",
       "      <td>52.320930</td>\n",
       "      <td>50.446266</td>\n",
       "      <td>43.852013</td>\n",
       "      <td>6.622085</td>\n",
       "      <td>0.544332</td>\n",
       "    </tr>\n",
       "    <tr>\n",
       "      <th>Ramicane</th>\n",
       "      <td>40.216745</td>\n",
       "      <td>40.673236</td>\n",
       "      <td>23.486704</td>\n",
       "      <td>4.846308</td>\n",
       "      <td>0.320955</td>\n",
       "    </tr>\n",
       "    <tr>\n",
       "      <th>Stelasyn</th>\n",
       "      <td>54.233149</td>\n",
       "      <td>52.431737</td>\n",
       "      <td>59.450562</td>\n",
       "      <td>7.710419</td>\n",
       "      <td>0.573111</td>\n",
       "    </tr>\n",
       "    <tr>\n",
       "      <th>Zoniferol</th>\n",
       "      <td>53.236507</td>\n",
       "      <td>51.818479</td>\n",
       "      <td>48.533355</td>\n",
       "      <td>6.966589</td>\n",
       "      <td>0.516398</td>\n",
       "    </tr>\n",
       "  </tbody>\n",
       "</table>\n",
       "</div>"
      ],
      "text/plain": [
       "              Mean Tumor Volume  Median Tumor Volume  Tumor Volume Variance  \\\n",
       "Drug Regimen                                                                  \n",
       "Capomulin             40.675741            41.557809              24.947764   \n",
       "Ceftamin              52.591172            51.776157              39.290177   \n",
       "Infubinol             52.884795            51.820584              43.128684   \n",
       "Ketapril              55.235638            53.698743              68.553577   \n",
       "Naftisol              54.331565            52.509285              66.173479   \n",
       "Placebo               54.033581            52.288934              61.168083   \n",
       "Propriva              52.320930            50.446266              43.852013   \n",
       "Ramicane              40.216745            40.673236              23.486704   \n",
       "Stelasyn              54.233149            52.431737              59.450562   \n",
       "Zoniferol             53.236507            51.818479              48.533355   \n",
       "\n",
       "              Tumor Volume Standard Deviation  Tumor Volume SEM  \n",
       "Drug Regimen                                                     \n",
       "Capomulin                            4.994774          0.329346  \n",
       "Ceftamin                             6.268188          0.469821  \n",
       "Infubinol                            6.567243          0.492236  \n",
       "Ketapril                             8.279709          0.603860  \n",
       "Naftisol                             8.134708          0.596466  \n",
       "Placebo                              7.821003          0.581331  \n",
       "Propriva                             6.622085          0.544332  \n",
       "Ramicane                             4.846308          0.320955  \n",
       "Stelasyn                             7.710419          0.573111  \n",
       "Zoniferol                            6.966589          0.516398  "
      ]
     },
     "execution_count": 22,
     "metadata": {},
     "output_type": "execute_result"
    }
   ],
   "source": [
    "# Generate a summary statistics table of mean, median, variance, standard deviation, and SEM of the tumor volume for each regimen\n",
    "\n",
    "# Use groupby and summary statistical methods to calculate the following properties of each drug regimen: \n",
    "# mean, median, variance, standard deviation, and SEM of the tumor volume. \n",
    "# Assemble the resulting series into a single summary DataFrame.\n",
    "\n",
    "mean = clean_df[\"Tumor Volume (mm3)\"].groupby(clean_df[\"Drug Regimen\"]).mean()\n",
    "median = clean_df[\"Tumor Volume (mm3)\"].groupby(clean_df[\"Drug Regimen\"]).median()\n",
    "var = clean_df[\"Tumor Volume (mm3)\"].groupby(clean_df[\"Drug Regimen\"]).var()                                            \n",
    "std = clean_df[\"Tumor Volume (mm3)\"].groupby(clean_df[\"Drug Regimen\"]).std()                                                \n",
    "sem = clean_df[\"Tumor Volume (mm3)\"].groupby(clean_df[\"Drug Regimen\"]).sem()\n",
    "                                             \n",
    "summary_stat = pd.DataFrame({\"Mean Tumor Volume\":mean,\n",
    "                             \"Median Tumor Volume\":median,\n",
    "                             \"Tumor Volume Variance\":var,\n",
    "                             \"Tumor Volume Standard Deviation\":std,\n",
    "                             \"Tumor Volume SEM\":sem})                                         \n",
    "summary_stat"
   ]
  },
  {
   "cell_type": "code",
   "execution_count": 23,
   "metadata": {},
   "outputs": [
    {
     "data": {
      "text/html": [
       "<div>\n",
       "<style scoped>\n",
       "    .dataframe tbody tr th:only-of-type {\n",
       "        vertical-align: middle;\n",
       "    }\n",
       "\n",
       "    .dataframe tbody tr th {\n",
       "        vertical-align: top;\n",
       "    }\n",
       "\n",
       "    .dataframe thead tr th {\n",
       "        text-align: left;\n",
       "    }\n",
       "\n",
       "    .dataframe thead tr:last-of-type th {\n",
       "        text-align: right;\n",
       "    }\n",
       "</style>\n",
       "<table border=\"1\" class=\"dataframe\">\n",
       "  <thead>\n",
       "    <tr>\n",
       "      <th></th>\n",
       "      <th colspan=\"5\" halign=\"left\">Tumor Volume (mm3)</th>\n",
       "    </tr>\n",
       "    <tr>\n",
       "      <th></th>\n",
       "      <th>mean</th>\n",
       "      <th>median</th>\n",
       "      <th>var</th>\n",
       "      <th>std</th>\n",
       "      <th>sem</th>\n",
       "    </tr>\n",
       "    <tr>\n",
       "      <th>Drug Regimen</th>\n",
       "      <th></th>\n",
       "      <th></th>\n",
       "      <th></th>\n",
       "      <th></th>\n",
       "      <th></th>\n",
       "    </tr>\n",
       "  </thead>\n",
       "  <tbody>\n",
       "    <tr>\n",
       "      <th>Capomulin</th>\n",
       "      <td>40.675741</td>\n",
       "      <td>41.557809</td>\n",
       "      <td>24.947764</td>\n",
       "      <td>4.994774</td>\n",
       "      <td>0.329346</td>\n",
       "    </tr>\n",
       "    <tr>\n",
       "      <th>Ceftamin</th>\n",
       "      <td>52.591172</td>\n",
       "      <td>51.776157</td>\n",
       "      <td>39.290177</td>\n",
       "      <td>6.268188</td>\n",
       "      <td>0.469821</td>\n",
       "    </tr>\n",
       "    <tr>\n",
       "      <th>Infubinol</th>\n",
       "      <td>52.884795</td>\n",
       "      <td>51.820584</td>\n",
       "      <td>43.128684</td>\n",
       "      <td>6.567243</td>\n",
       "      <td>0.492236</td>\n",
       "    </tr>\n",
       "    <tr>\n",
       "      <th>Ketapril</th>\n",
       "      <td>55.235638</td>\n",
       "      <td>53.698743</td>\n",
       "      <td>68.553577</td>\n",
       "      <td>8.279709</td>\n",
       "      <td>0.603860</td>\n",
       "    </tr>\n",
       "    <tr>\n",
       "      <th>Naftisol</th>\n",
       "      <td>54.331565</td>\n",
       "      <td>52.509285</td>\n",
       "      <td>66.173479</td>\n",
       "      <td>8.134708</td>\n",
       "      <td>0.596466</td>\n",
       "    </tr>\n",
       "    <tr>\n",
       "      <th>Placebo</th>\n",
       "      <td>54.033581</td>\n",
       "      <td>52.288934</td>\n",
       "      <td>61.168083</td>\n",
       "      <td>7.821003</td>\n",
       "      <td>0.581331</td>\n",
       "    </tr>\n",
       "    <tr>\n",
       "      <th>Propriva</th>\n",
       "      <td>52.320930</td>\n",
       "      <td>50.446266</td>\n",
       "      <td>43.852013</td>\n",
       "      <td>6.622085</td>\n",
       "      <td>0.544332</td>\n",
       "    </tr>\n",
       "    <tr>\n",
       "      <th>Ramicane</th>\n",
       "      <td>40.216745</td>\n",
       "      <td>40.673236</td>\n",
       "      <td>23.486704</td>\n",
       "      <td>4.846308</td>\n",
       "      <td>0.320955</td>\n",
       "    </tr>\n",
       "    <tr>\n",
       "      <th>Stelasyn</th>\n",
       "      <td>54.233149</td>\n",
       "      <td>52.431737</td>\n",
       "      <td>59.450562</td>\n",
       "      <td>7.710419</td>\n",
       "      <td>0.573111</td>\n",
       "    </tr>\n",
       "    <tr>\n",
       "      <th>Zoniferol</th>\n",
       "      <td>53.236507</td>\n",
       "      <td>51.818479</td>\n",
       "      <td>48.533355</td>\n",
       "      <td>6.966589</td>\n",
       "      <td>0.516398</td>\n",
       "    </tr>\n",
       "  </tbody>\n",
       "</table>\n",
       "</div>"
      ],
      "text/plain": [
       "             Tumor Volume (mm3)                                          \n",
       "                           mean     median        var       std       sem\n",
       "Drug Regimen                                                             \n",
       "Capomulin             40.675741  41.557809  24.947764  4.994774  0.329346\n",
       "Ceftamin              52.591172  51.776157  39.290177  6.268188  0.469821\n",
       "Infubinol             52.884795  51.820584  43.128684  6.567243  0.492236\n",
       "Ketapril              55.235638  53.698743  68.553577  8.279709  0.603860\n",
       "Naftisol              54.331565  52.509285  66.173479  8.134708  0.596466\n",
       "Placebo               54.033581  52.288934  61.168083  7.821003  0.581331\n",
       "Propriva              52.320930  50.446266  43.852013  6.622085  0.544332\n",
       "Ramicane              40.216745  40.673236  23.486704  4.846308  0.320955\n",
       "Stelasyn              54.233149  52.431737  59.450562  7.710419  0.573111\n",
       "Zoniferol             53.236507  51.818479  48.533355  6.966589  0.516398"
      ]
     },
     "execution_count": 23,
     "metadata": {},
     "output_type": "execute_result"
    }
   ],
   "source": [
    "# A more advanced method to generate a summary statistics table of mean, median, variance, standard deviation,\n",
    "# and SEM of the tumor volume for each regimen (only one method is required in the solution)\n",
    "\n",
    "# Using the aggregation method, produce the same summary statistics in a single line\n",
    "\n",
    "summary_agg = clean_df.groupby([\"Drug Regimen\"])[[\"Tumor Volume (mm3)\"]].agg([\"mean\", \"median\", \"var\", \"std\", \"sem\"])\n",
    "summary_agg"
   ]
  },
  {
   "cell_type": "markdown",
   "metadata": {},
   "source": [
    "## Bar and Pie Charts"
   ]
  },
  {
   "cell_type": "code",
   "execution_count": 24,
   "metadata": {},
   "outputs": [
    {
     "data": {
      "text/plain": [
       "Capomulin    230\n",
       "Ramicane     228\n",
       "Ketapril     188\n",
       "Naftisol     186\n",
       "Zoniferol    182\n",
       "Placebo      181\n",
       "Stelasyn     181\n",
       "Infubinol    178\n",
       "Ceftamin     178\n",
       "Propriva     148\n",
       "Name: Drug Regimen, dtype: int64"
      ]
     },
     "execution_count": 24,
     "metadata": {},
     "output_type": "execute_result"
    }
   ],
   "source": [
    "# Generate a bar plot showing the total number of rows (Mouse ID/Timepoints) for each drug regimen using Pandas.\n",
    "mice_count = clean_df[\"Drug Regimen\"].value_counts()\n",
    "mice_count                    "
   ]
  },
  {
   "cell_type": "code",
   "execution_count": 25,
   "metadata": {},
   "outputs": [
    {
     "data": {
      "text/plain": [
       "Text(0.5, 1.0, 'Number of Mice per Treatment')"
      ]
     },
     "execution_count": 25,
     "metadata": {},
     "output_type": "execute_result"
    },
    {
     "data": {
      "image/png": "[encoded data removed]",
      "text/plain": [
       "<Figure size 640x480 with 1 Axes>"
      ]
     },
     "metadata": {},
     "output_type": "display_data"
    }
   ],
   "source": [
    "# Generate a bar plot showing the total number of rows (Mouse ID/Timepoints) for each drug regimen using pyplot.\n",
    "plot_pandas = mice_count.plot.bar(color=\"b\")\n",
    "plt.xlabel(\"Drug Regimen\")\n",
    "plt.ylabel(\"Number of Mice\")\n",
    "plt.title(\"Number of Mice per Treatment\")"
   ]
  },
  {
   "cell_type": "code",
   "execution_count": 26,
   "metadata": {},
   "outputs": [
    {
     "data": {
      "image/png": "[encoded data removed]",
      "text/plain": [
       "<Figure size 640x480 with 1 Axes>"
      ]
     },
     "metadata": {},
     "output_type": "display_data"
    }
   ],
   "source": [
    "# Generate a pie plot showing the distribution of female versus male mice using Pandas\n",
    "gender_data = clean_df[\"Sex\"].value_counts()\n",
    "plt.title(\"Female vs. Male Mice\")\n",
    "gender_data.plot.pie(autopct=\"%1.1f%%\")\n",
    "plt.show()"
   ]
  },
  {
   "cell_type": "code",
   "execution_count": 27,
   "metadata": {},
   "outputs": [
    {
     "data": {
      "image/png": "[encoded data removed]",
      "text/plain": [
       "<Figure size 640x480 with 1 Axes>"
      ]
     },
     "metadata": {},
     "output_type": "display_data"
    }
   ],
   "source": [
    "# Generate a pie plot showing the distribution of female versus male mice using pyplot\n",
    "labels = [\"Female\", \"Male\"]\n",
    "size = [49.7999197, 50.200803]\n",
    "plot = gender_data.plot.pie(y=\"Total Count\", autopct=\"%1.1f%%\")\n",
    "plt.title(\"Male vs Female Mouse Population\")\n",
    "plt.ylabel(\"Sex\")\n",
    "plt.show()"
   ]
  },
  {
   "cell_type": "markdown",
   "metadata": {},
   "source": [
    "## Quartiles, Outliers and Boxplots"
   ]
  },
  {
   "cell_type": "code",
   "execution_count": 28,
   "metadata": {},
   "outputs": [],
   "source": [
    "# Calculate the final tumor volume of each mouse across four of the treatment regimens:  \n",
    "# Capomulin, Ramicane, Infubinol, and Ceftamin\n",
    "Capomulin_df = clean_df.loc[clean_df[\"Drug Regimen\"] == \"Capomulin\",:]\n",
    "Ramicane_df = clean_df.loc[clean_df[\"Drug Regimen\"] == \"Ramicane\",:]\n",
    "Infubinol_df = clean_df.loc[clean_df[\"Drug Regimen\"] == \"Infubinol\",:]\n",
    "Ceftamin_df = clean_df.loc[clean_df[\"Drug Regimen\"] == \"Ceftamin\",:]                               \n",
    "                            "
   ]
  },
  {
   "cell_type": "code",
   "execution_count": 29,
   "metadata": {},
   "outputs": [
    {
     "name": "stdout",
     "output_type": "stream",
     "text": [
      "The lower quartiles of Capomulin tumors: 32.37735684\n",
      "The upper quartiles of Capomulin tumors: 40.1592203\n",
      "The  interquartile range of Capomulin tumors: 7.781863460000004\n",
      "The median of Capomulin tumors: 38.1251644\n",
      "Values below 20.70456164999999 could be outliers.\n",
      "Values above 51.83201549 could be outliers.\n"
     ]
    }
   ],
   "source": [
    "# Start by getting the last (greatest) timepoint for each mouse\n",
    "#Capomulin\n",
    "Capomulin_last = Capomulin_df.groupby(\"Mouse ID\").max()[\"Timepoint\"]\n",
    "Capomulin_vol = pd.DataFrame(Capomulin_last)\n",
    "Capomulin_merge = pd.merge(Capomulin_vol, clean_df, on=(\"Mouse ID\",\"Timepoint\"),how=\"left\")\n",
    "Capomulin_merge.head()\n",
    "\n",
    "Capomulin_tumors = Capomulin_merge[\"Tumor Volume (mm3)\"]\n",
    "\n",
    "quartiles = Capomulin_tumors.quantile([.25,.5,.75])\n",
    "lowerq = quartiles[.25]\n",
    "upperq = quartiles[.75]\n",
    "iqr = upperq-lowerq\n",
    "\n",
    "print(f\"The lower quartiles of Capomulin tumors: {lowerq}\")\n",
    "print(f\"The upper quartiles of Capomulin tumors: {upperq}\")\n",
    "print(f\"The  interquartile range of Capomulin tumors: {iqr}\")\n",
    "print(f\"The median of Capomulin tumors: {quartiles[.5]}\")\n",
    " \n",
    "lower_bound = lowerq - (1.5*iqr)\n",
    "upper_bound = upperq + (1.5*iqr)\n",
    "\n",
    "print(f\"Values below {lower_bound} could be outliers.\")\n",
    "print(f\"Values above {upper_bound} could be outliers.\")                                                \n",
    "                                                   \n"
   ]
  },
  {
   "cell_type": "code",
   "execution_count": 30,
   "metadata": {},
   "outputs": [
    {
     "name": "stdout",
     "output_type": "stream",
     "text": [
      "The lower quartiles of Ramicane tumors: 31.56046955\n",
      "The upper quartiles of Ramicane tumors: 40.65900627\n",
      "The  interquartile range of Ramicane tumors: 9.098536719999998\n",
      "The median of Ramicane tumors: 36.56165229\n",
      "Values below 17.912664470000003 could be outliers.\n",
      "Values above 54.30681135 could be outliers.\n"
     ]
    }
   ],
   "source": [
    "#Ramicane\n",
    "Ramicane_last = Ramicane_df.groupby(\"Mouse ID\").max()[\"Timepoint\"]\n",
    "Ramicane_vol = pd.DataFrame(Ramicane_last)\n",
    "Ramicane_merge = pd.merge(Ramicane_vol, clean_df, on=(\"Mouse ID\",\"Timepoint\"),how=\"left\")\n",
    "Ramicane_merge.head()\n",
    "Ramicane_merge.to_csv(\"output.csv\")\n",
    "\n",
    "Ramicane_tumors = Ramicane_merge[\"Tumor Volume (mm3)\"]\n",
    "\n",
    "quartiles = Ramicane_tumors.quantile([.25,.5,.75])\n",
    "lowerq = quartiles[.25]\n",
    "upperq = quartiles[.75]\n",
    "iqr = upperq-lowerq\n",
    "\n",
    "print(f\"The lower quartiles of Ramicane tumors: {lowerq}\")\n",
    "print(f\"The upper quartiles of Ramicane tumors: {upperq}\")\n",
    "print(f\"The  interquartile range of Ramicane tumors: {iqr}\")\n",
    "print(f\"The median of Ramicane tumors: {quartiles[.5]}\")\n",
    " \n",
    "lower_bound = lowerq - (1.5*iqr)\n",
    "upper_bound = upperq + (1.5*iqr)\n",
    "\n",
    "print(f\"Values below {lower_bound} could be outliers.\")\n",
    "print(f\"Values above {upper_bound} could be outliers.\")  "
   ]
  },
  {
   "cell_type": "code",
   "execution_count": 31,
   "metadata": {},
   "outputs": [
    {
     "name": "stdout",
     "output_type": "stream",
     "text": [
      "The lower quartiles of Infubinol tumors: 54.04860769\n",
      "The upper quartiles of Infubinol tumors: 65.52574285\n",
      "The  interquartile range of Infubinol tumors: 11.477135160000003\n",
      "The median of Infubinol tumors: 60.16518046\n",
      "Values below 36.83290494999999 could be outliers.\n",
      "Values above 82.74144559000001 could be outliers.\n"
     ]
    }
   ],
   "source": [
    "#Infubinol\n",
    "Infubinol_last = Infubinol_df.groupby(\"Mouse ID\").max()[\"Timepoint\"]\n",
    "Infubinol_vol = pd.DataFrame(Infubinol_last)\n",
    "Infubinol_merge = pd.merge(Infubinol_vol, clean_df, on=(\"Mouse ID\",\"Timepoint\"),how=\"left\")\n",
    "Infubinol_merge.head()\n",
    "\n",
    "Infubinol_tumors = Infubinol_merge[\"Tumor Volume (mm3)\"]\n",
    "\n",
    "quartiles = Infubinol_tumors.quantile([.25,.5,.75])\n",
    "lowerq = quartiles[.25]\n",
    "upperq = quartiles[.75]\n",
    "iqr = upperq-lowerq\n",
    "\n",
    "print(f\"The lower quartiles of Infubinol tumors: {lowerq}\")\n",
    "print(f\"The upper quartiles of Infubinol tumors: {upperq}\")\n",
    "print(f\"The  interquartile range of Infubinol tumors: {iqr}\")\n",
    "print(f\"The median of Infubinol tumors: {quartiles[.5]}\")\n",
    " \n",
    "lower_bound = lowerq - (1.5*iqr)\n",
    "upper_bound = upperq + (1.5*iqr)\n",
    "\n",
    "print(f\"Values below {lower_bound} could be outliers.\")\n",
    "print(f\"Values above {upper_bound} could be outliers.\")  \n",
    "Infubinol_merge.to_csv(\"output.csv\")"
   ]
  },
  {
   "cell_type": "code",
   "execution_count": 32,
   "metadata": {},
   "outputs": [
    {
     "name": "stdout",
     "output_type": "stream",
     "text": [
      "The lower quartiles of Infubinol tumors: 54.04860769\n",
      "The upper quartiles of Infubinol tumors: 65.52574285\n",
      "The  interquartile range of Infubinol tumors: 11.477135160000003\n",
      "The median of Infubinol tumors: 60.16518046\n",
      "Values below 36.83290494999999 could be outliers.\n",
      "Values above 82.74144559000001 could be outliers.\n"
     ]
    }
   ],
   "source": [
    "#Ceftamin\n",
    "Infubinol_last = Infubinol_df.groupby(\"Mouse ID\").max()[\"Timepoint\"]\n",
    "Infubinol_vol = pd.DataFrame(Infubinol_last)\n",
    "Infubinol_merge = pd.merge(Infubinol_vol, clean_df, on=(\"Mouse ID\",\"Timepoint\"),how=\"left\")\n",
    "Infubinol_merge.head()\n",
    "\n",
    "Infubinol_tumors = Infubinol_merge[\"Tumor Volume (mm3)\"]\n",
    "\n",
    "quartiles = Infubinol_tumors.quantile([.25,.5,.75])\n",
    "lowerq = quartiles[.25]\n",
    "upperq = quartiles[.75]\n",
    "iqr = upperq-lowerq\n",
    "\n",
    "print(f\"The lower quartiles of Infubinol tumors: {lowerq}\")\n",
    "print(f\"The upper quartiles of Infubinol tumors: {upperq}\")\n",
    "print(f\"The  interquartile range of Infubinol tumors: {iqr}\")\n",
    "print(f\"The median of Infubinol tumors: {quartiles[.5]}\")\n",
    " \n",
    "lower_bound = lowerq - (1.5*iqr)\n",
    "upper_bound = upperq + (1.5*iqr)\n",
    "\n",
    "print(f\"Values below {lower_bound} could be outliers.\")\n",
    "print(f\"Values above {upper_bound} could be outliers.\")  "
   ]
  },
  {
   "cell_type": "code",
   "execution_count": 42,
   "metadata": {},
   "outputs": [
    {
     "name": "stdout",
     "output_type": "stream",
     "text": [
      "Capomulin\n",
      "Ramicane\n",
      "Infubinol\n",
      "Ceftamin\n"
     ]
    }
   ],
   "source": [
    "drug_list = [\"Capomulin\", \"Ramicane\", \"Infubinol\", \"Ceftamin\"]\n",
    "\n",
    "drugs= combined_df[combined_df[\"Drug Regimen\"].isin(drug_list)]\n",
    "drugs.head()\n",
    "\n",
    "last_timepoint = drugs.groupby([\"Drug Regimen\", \"Mouse ID\"]).agg(tumor_size=(\"Tumor Volume (mm3)\", lambda x: x.iloc[-1]))\n",
    "\n",
    "#reshaped\n",
    "last_timepoint = last_timepoint.stack(level=0).unstack(level=0)\n",
    "for drug in drug_list:\n",
    "     print(drug)"
   ]
  },
  {
   "cell_type": "code",
   "execution_count": 43,
   "metadata": {},
   "outputs": [
    {
     "name": "stdout",
     "output_type": "stream",
     "text": [
      "--------------------------------------------\n",
      "The lower quartile of Capomulin treatment is: 32.38\n",
      "The upper quartile of Capomulin treatment is: 40.16\n",
      "The interquartile range of Capomulin treatments is 7.78\n",
      "Values below 20.71 could beCapomulin outliers.\n",
      "Values above 51.83 could beCapomulin outliers.\n",
      "--------------------------------------------------\n"
     ]
    }
   ],
   "source": [
    "# Put treatments into a list for for loop (and later for plot labels)\n",
    "# Create empty list to fill with tumor vol data (for plotting)\n",
    "# Calculate the IQR and quantitatively determine if there are any potential outliers. \n",
    " # Locate the rows which contain mice on each drug and get the tumor volumes\n",
    "       # add subset \n",
    " # Determine outliers using upper and lower bounds\n",
    "treatment = 0\n",
    "drug_list = [\"Capomulin\", \"Ramicane\", \"Infubinol\", \"Ceftamin\"]\n",
    "\n",
    "for drug in drug_list:\n",
    "    quartiles = last_timepoint[drug].quantile([.25,.5,.75]).round(2)\n",
    "    lowerq = quartiles[.25].round(2)\n",
    "    upperq = quartiles[.75].round(2)\n",
    "    iqr = round(upperq-lowerq,2)\n",
    "    lower_bound = round(lowerq - (1.5*iqr),2)\n",
    "    upper_bound = round(upperq + (1.5*iqr),2)\n",
    "    \n",
    "    if treatment == 0:\n",
    "        print(f\"--------------------------------------------\")\n",
    "        print(f\"The lower quartile of {drug} treatment is: {lowerq}\")\n",
    "        print(f\"The upper quartile of {drug} treatment is: {upperq}\")\n",
    "        print(f\"The interquartile range of {drug} treatments is {iqr}\")\n",
    "        print(f\"Values below {lower_bound} could be{drug} outliers.\")\n",
    "        print(f\"Values above {upper_bound} could be{drug} outliers.\")\n",
    "        print(f\"--------------------------------------------------\")\n",
    "        treatment+=1"
   ]
  },
  {
   "cell_type": "code",
   "execution_count": 46,
   "metadata": {},
   "outputs": [
    {
     "data": {
      "image/png": "[encoded data removed]",
      "text/plain": [
       "<Figure size 640x480 with 1 Axes>"
      ]
     },
     "metadata": {},
     "output_type": "display_data"
    }
   ],
   "source": [
    "boxplot_list = []\n",
    "for drug in drug_list:\n",
    "    boxplot_list.append(list(last_timepoint[drug].dropna()))\n",
    "\n",
    "\n",
    "# Generate a box plot of the final tumor volume of each mouse across four regimens of interest\n",
    "fig = plt.figure()\n",
    "plt.xlabel(\"Regimen\")\n",
    "plt.xticks([1,2,3,4], drug_list, rotation=45)\n",
    "plt.ylabel(\"Tumor Volume\")\n",
    "plt.title(\"Tumor Volume by Drug Regimen\")\n",
    "plt.boxplot(boxplot_list)\n",
    "plt.show()"
   ]
  },
  {
   "cell_type": "markdown",
   "metadata": {},
   "source": [
    "## Line and Scatter Plots"
   ]
  },
  {
   "cell_type": "code",
   "execution_count": 95,
   "metadata": {},
   "outputs": [
    {
     "data": {
      "image/png": "[encoded data removed]",
      "text/plain": [
       "<Figure size 640x480 with 1 Axes>"
      ]
     },
     "metadata": {},
     "output_type": "display_data"
    }
   ],
   "source": [
    "# Generate a line plot of tumor volume vs. time point for a single mouse treated with Capomulin\n",
    "forline_df = Capomulin_df.loc[Capomulin_df[\"Mouse ID\"] == \"s185\", :]\n",
    "forline_df.head()\n",
    "x_axis = forline_df[\"Timepoint\"]\n",
    "tumsiz = forline_df[\"Tumor Volume (mm3)\"]\n",
    "\n",
    "\n",
    "fig1, ax1 = plt.subplots()\n",
    "plt.title(\"Capomulin treatment of mouse s185\")\n",
    "plt.plot(x_axis, tumsiz,linewidth=2, markersize=15,marker=\"o\",color=\"blue\", label=\"Fahreneit\")\n",
    "plt.xlabel(\"Timepoint(Days)\")\n",
    "plt.ylabel(\"Tumor Volume (mm3)\")\n",
    "plt.show()"
   ]
  },
  {
   "cell_type": "code",
   "execution_count": 89,
   "metadata": {},
   "outputs": [
    {
     "name": "stderr",
     "output_type": "stream",
     "text": [
      "C:\\Users\\anconde\\AppData\\Local\\Temp\\ipykernel_18892\\1671775729.py:3: FutureWarning: The default value of numeric_only in DataFrameGroupBy.mean is deprecated. In a future version, numeric_only will default to False. Either specify numeric_only or select only columns which should be valid for the function.\n",
      "  avg_capm_vol =Capomulin_df.groupby([\"Mouse ID\"]).mean()\n"
     ]
    },
    {
     "data": {
      "text/plain": [
       "Text(0, 0.5, 'Average Tumor Volume (mm3)')"
      ]
     },
     "execution_count": 89,
     "metadata": {},
     "output_type": "execute_result"
    },
    {
     "data": {
      "image/png": "[encoded data removed]",
      "text/plain": [
       "<Figure size 640x480 with 1 Axes>"
      ]
     },
     "metadata": {},
     "output_type": "display_data"
    }
   ],
   "source": [
    "# Generate a scatter plot of mouse weight vs. the average observed tumor volume for the entire Capomulin regimen\n",
    "fig1, ax1 = plt.subplots()\n",
    "avg_capm_vol =Capomulin_df.groupby([\"Mouse ID\"]).mean()\n",
    "marker_size=15\n",
    "plt.scatter(avg_capm_vol[\"Weight (g)\"],avg_capm_vol[\"Tumor Volume (mm3)\"], color=\"blue\")\n",
    "plt.title(\"Mouse Weight Versus Average Tumor Volume\")\n",
    "plt.xlabel(\"Weight (g)\", fontsize =14)\n",
    "plt.ylabel(\"Average Tumor Volume (mm3)\")\n"
   ]
  },
  {
   "cell_type": "markdown",
   "metadata": {},
   "source": [
    "## Correlation and Regression"
   ]
  },
  {
   "cell_type": "code",
   "execution_count": 87,
   "metadata": {},
   "outputs": [
    {
     "name": "stdout",
     "output_type": "stream",
     "text": [
      "The correlation between mouse weight and the average tumor volume is 0.84\n",
      "The r-squared is: 0.709\n"
     ]
    },
    {
     "data": {
      "image/png": "[encoded data removed]",
      "text/plain": [
       "<Figure size 640x480 with 1 Axes>"
      ]
     },
     "metadata": {},
     "output_type": "display_data"
    }
   ],
   "source": [
    "# Calculate the correlation coefficient and a linear regression model \n",
    "correlation = st.pearsonr(avg_capm_vol[\"Weight (g)\"],avg_capm_vol[\"Tumor Volume (mm3)\"])\n",
    "print(f\"The correlation between mouse weight and the average tumor volume is {round(correlation[0],2)}\")\n",
    "\n",
    "# for mouse weight and average observed tumor volume for the entire Capomulin regimen\n",
    "(slope, intercept,rvalue,pvalue,stderr)= st.linregress(avg_capm_vol[\"Weight (g)\"],avg_capm_vol[\"Tumor Volume (mm3)\"])\n",
    "regress_values=avg_capm_vol[\"Weight (g)\"]* slope + intercept\n",
    "line_eq= f\"y = {round(slope,2)} x + {round(intercept,2)}\"\n",
    "\n",
    "plt.scatter(avg_capm_vol[\"Weight (g)\"],avg_capm_vol[\"Tumor Volume (mm3)\"],color=\"b\")\n",
    "plt.plot(avg_capm_vol[\"Weight (g)\"], regress_values, color=\"red\")\n",
    "plt.annotate(line_eq,(20,36), fontsize=12)\n",
    "plt.xlabel(\"Weight (g)\")\n",
    "plt.ylabel(\"Tumor Volume (mm3)\")\n",
    "plt.title(\"Weight vs Tumor Volume for Capomulin\")\n",
    "print(f\"The r-squared is: {round(rvalue**2,3)}\")\n",
    "plt.show()\n",
    "\n"
   ]
  },
  {
   "cell_type": "code",
   "execution_count": null,
   "metadata": {},
   "outputs": [],
   "source": []
  },
  {
   "cell_type": "code",
   "execution_count": null,
   "metadata": {},
   "outputs": [],
   "source": []
  }
 ],
 "metadata": {
  "anaconda-cloud": {},
  "kernelspec": {
   "display_name": "Python 3 (ipykernel)",
   "language": "python",
   "name": "python3"
  },
  "language_info": {
   "codemirror_mode": {
    "name": "ipython",
    "version": 3
   },
   "file_extension": ".py",
   "mimetype": "text/x-python",
   "name": "python",
   "nbconvert_exporter": "python",
   "pygments_lexer": "ipython3",
   "version": "3.10.9"
  }
 },
 "nbformat": 4,
 "nbformat_minor": 4
}
